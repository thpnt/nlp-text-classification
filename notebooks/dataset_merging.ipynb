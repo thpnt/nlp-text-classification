{
 "cells": [
  {
   "cell_type": "markdown",
   "id": "5ca75f23-2a07-4388-a209-fd2d35c9b638",
   "metadata": {},
   "source": [
    "# Import Data & Packages"
   ]
  },
  {
   "cell_type": "code",
   "execution_count": 2,
   "id": "ccdce18d-8816-4843-9162-abbc650de73f",
   "metadata": {},
   "outputs": [],
   "source": [
    "import pandas as pd\n",
    "import numpy as np\n",
    "import os\n",
    "import matplotlib.pyplot as plt\n",
    "import seaborn as sns"
   ]
  },
  {
   "cell_type": "code",
   "execution_count": 3,
   "id": "56de8bb0-72a5-422e-bc22-79af362b15d8",
   "metadata": {},
   "outputs": [],
   "source": [
    "project_root = os.path.dirname(os.getcwd())\n",
    "data_directory = os.path.join(project_root, 'datasets')\n",
    "df1 = pd.read_csv(os.path.join(data_directory, 'originals/hate_speech_dataset.csv'))\n",
    "df2 = pd.read_csv(os.path.join(data_directory, 'originals/toxic_comment.csv'))"
   ]
  },
  {
   "cell_type": "markdown",
   "id": "04993a77-fe6a-48a7-9562-27823e748cff",
   "metadata": {},
   "source": [
    "# Merging datasets"
   ]
  },
  {
   "cell_type": "markdown",
   "id": "6dd7425e-e488-4bfc-b10c-0e60929702ab",
   "metadata": {},
   "source": [
    "## Class distribution"
   ]
  },
  {
   "cell_type": "markdown",
   "id": "cb8eeecb-9a67-4732-8c8d-aa7318dc1096",
   "metadata": {},
   "source": [
    "##### Hate Speech DataSet"
   ]
  },
  {
   "cell_type": "markdown",
   "id": "c9dbe84c",
   "metadata": {},
   "source": [
    "The goal is to create a one-one mapping between the two datasets."
   ]
  },
  {
   "cell_type": "code",
   "execution_count": 4,
   "id": "913bddfc-c162-4dfa-aa10-2843cf45b08e",
   "metadata": {},
   "outputs": [],
   "source": [
    "# Drop Unneccasry colums\n",
    "df1.drop(columns=['Unnamed: 0', 'hate_speech', 'count', 'offensive_language', 'neither'], inplace=True)\n",
    "\n",
    "# Rename columns\n",
    "df1.columns = ['label', 'text']\n",
    "\n",
    "# Add a column to indicate the source of the data\n",
    "df1['source'] = 'hate_speech'"
   ]
  },
  {
   "cell_type": "markdown",
   "id": "f875d26f",
   "metadata": {},
   "source": [
    "##### Toxic comment dataset"
   ]
  },
  {
   "cell_type": "markdown",
   "id": "2bd18938",
   "metadata": {},
   "source": [
    "On this dataset, we must perform reclassification of the data to map to the first dataset."
   ]
  },
  {
   "cell_type": "code",
   "execution_count": 6,
   "id": "1beb94fa",
   "metadata": {},
   "outputs": [],
   "source": [
    "# Create new class labels for the toxic comment dataset\n",
    "# toxic and severe toxic comments are considered as toxic\n",
    "# obsene, threat, insult and identity hate are considered as hate_speech\n",
    "# clean comments are considered as neither\n",
    "\n",
    "\n",
    "# Function to create new labels\n",
    "def label_mapping(df : pd.DataFrame):\n",
    "    if df['obscene'] == 1 or df['threat'] == 1 or df['insult'] == 1 or df['identity_hate'] == 1:\n",
    "        return 2\n",
    "    elif df['toxic'] == 1 or df['severe_toxic'] == 1:\n",
    "        return 1\n",
    "    else:\n",
    "        return 0\n",
    "\n",
    "# Apply the functiont to the dataset\n",
    "df2['label'] = df2.apply(label_mapping, axis=1)\n",
    "# Drop unnecessary columns\n",
    "df2.drop(columns=['id', 'toxic', 'severe_toxic', 'obscene', 'threat', 'insult', 'identity_hate'], inplace=True)\n",
    "\n",
    "# Add a column to indicate the source of the data\n",
    "df2['source'] = 'toxic_comment'\n",
    "\n",
    "# Rename the text column\n",
    "df2.rename(columns={'comment_text': 'text'}, inplace=True)"
   ]
  },
  {
   "cell_type": "markdown",
   "id": "301efaa5",
   "metadata": {},
   "source": [
    "#### Concatenate the two datasets"
   ]
  },
  {
   "cell_type": "code",
   "execution_count": 7,
   "id": "036cdaff",
   "metadata": {},
   "outputs": [
    {
     "data": {
      "text/html": [
       "<div>\n",
       "<style scoped>\n",
       "    .dataframe tbody tr th:only-of-type {\n",
       "        vertical-align: middle;\n",
       "    }\n",
       "\n",
       "    .dataframe tbody tr th {\n",
       "        vertical-align: top;\n",
       "    }\n",
       "\n",
       "    .dataframe thead th {\n",
       "        text-align: right;\n",
       "    }\n",
       "</style>\n",
       "<table border=\"1\" class=\"dataframe\">\n",
       "  <thead>\n",
       "    <tr style=\"text-align: right;\">\n",
       "      <th></th>\n",
       "      <th>source</th>\n",
       "      <th>text</th>\n",
       "      <th>label</th>\n",
       "      <th>id</th>\n",
       "    </tr>\n",
       "  </thead>\n",
       "  <tbody>\n",
       "    <tr>\n",
       "      <th>0</th>\n",
       "      <td>hate_speech</td>\n",
       "      <td>!!! RT @mayasolovely: As a woman you shouldn't...</td>\n",
       "      <td>2</td>\n",
       "      <td>834ab1a0113a4bca911c957d4888237e</td>\n",
       "    </tr>\n",
       "    <tr>\n",
       "      <th>1</th>\n",
       "      <td>hate_speech</td>\n",
       "      <td>!!!!! RT @mleew17: boy dats cold...tyga dwn ba...</td>\n",
       "      <td>1</td>\n",
       "      <td>bd7bf611bc894ccead0806e8aa37b4e7</td>\n",
       "    </tr>\n",
       "    <tr>\n",
       "      <th>2</th>\n",
       "      <td>hate_speech</td>\n",
       "      <td>!!!!!!! RT @UrKindOfBrand Dawg!!!! RT @80sbaby...</td>\n",
       "      <td>1</td>\n",
       "      <td>ef6d509a073444d98873d1dd1947e730</td>\n",
       "    </tr>\n",
       "    <tr>\n",
       "      <th>3</th>\n",
       "      <td>hate_speech</td>\n",
       "      <td>!!!!!!!!! RT @C_G_Anderson: @viva_based she lo...</td>\n",
       "      <td>1</td>\n",
       "      <td>5b40709b68d140bc97935db8705b7154</td>\n",
       "    </tr>\n",
       "    <tr>\n",
       "      <th>4</th>\n",
       "      <td>hate_speech</td>\n",
       "      <td>!!!!!!!!!!!!! RT @ShenikaRoberts: The shit you...</td>\n",
       "      <td>1</td>\n",
       "      <td>8bc1b42117c14f00bafc3c2a974031d7</td>\n",
       "    </tr>\n",
       "  </tbody>\n",
       "</table>\n",
       "</div>"
      ],
      "text/plain": [
       "        source                                               text  label  \\\n",
       "0  hate_speech  !!! RT @mayasolovely: As a woman you shouldn't...      2   \n",
       "1  hate_speech  !!!!! RT @mleew17: boy dats cold...tyga dwn ba...      1   \n",
       "2  hate_speech  !!!!!!! RT @UrKindOfBrand Dawg!!!! RT @80sbaby...      1   \n",
       "3  hate_speech  !!!!!!!!! RT @C_G_Anderson: @viva_based she lo...      1   \n",
       "4  hate_speech  !!!!!!!!!!!!! RT @ShenikaRoberts: The shit you...      1   \n",
       "\n",
       "                                 id  \n",
       "0  834ab1a0113a4bca911c957d4888237e  \n",
       "1  bd7bf611bc894ccead0806e8aa37b4e7  \n",
       "2  ef6d509a073444d98873d1dd1947e730  \n",
       "3  5b40709b68d140bc97935db8705b7154  \n",
       "4  8bc1b42117c14f00bafc3c2a974031d7  "
      ]
     },
     "execution_count": 7,
     "metadata": {},
     "output_type": "execute_result"
    }
   ],
   "source": [
    "import uuid\n",
    "\n",
    "# Concatenate the two datasets\n",
    "df = pd.concat([df1[['source', 'text', 'label']], df2[['source', 'text', 'label']]], ignore_index=True)\n",
    "\n",
    "df['id'] = [uuid.uuid4().hex for _ in range(len(df))]\n",
    "df.head()"
   ]
  },
  {
   "cell_type": "markdown",
   "id": "779baa3c",
   "metadata": {},
   "source": [
    "#### Rebalance data for training"
   ]
  },
  {
   "cell_type": "markdown",
   "id": "8f6c7535",
   "metadata": {},
   "source": [
    "For training, we will select :\n",
    "- All the 'toxic' comments (label = 1) #25000 rows\n",
    "- All the 'hate_speech' comments (label = 2) #14500 rows\n",
    "- 16.5% * 25000 randomly choose 'neither' comments from hate speech dataset\n",
    "- 83.5% * 25000 randomly choose 'neither' comments from toxic comment dataset"
   ]
  },
  {
   "cell_type": "code",
   "execution_count": null,
   "id": "0e271cbf",
   "metadata": {},
   "outputs": [
    {
     "data": {
      "text/plain": [
       "label\n",
       "0    144776\n",
       "1     24897\n",
       "2     14681\n",
       "Name: count, dtype: int64"
      ]
     },
     "execution_count": 9,
     "metadata": {},
     "output_type": "execute_result"
    }
   ],
   "source": [
    "# Instigate class distribution\n",
    "df['label'].value_counts()"
   ]
  }
 ],
 "metadata": {
  "kernelspec": {
   "display_name": "env",
   "language": "python",
   "name": "python3"
  },
  "language_info": {
   "codemirror_mode": {
    "name": "ipython",
    "version": 3
   },
   "file_extension": ".py",
   "mimetype": "text/x-python",
   "name": "python",
   "nbconvert_exporter": "python",
   "pygments_lexer": "ipython3",
   "version": "3.12.7"
  }
 },
 "nbformat": 4,
 "nbformat_minor": 5
}
