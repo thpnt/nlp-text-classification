{
 "cells": [
  {
   "cell_type": "markdown",
   "metadata": {},
   "source": [
    "# Baseline Preprocessing"
   ]
  },
  {
   "cell_type": "markdown",
   "metadata": {},
   "source": [
    "## Data & Package"
   ]
  },
  {
   "cell_type": "code",
   "execution_count": 2,
   "metadata": {},
   "outputs": [],
   "source": [
    "import os\n",
    "import pandas as pd\n",
    "import numpy as np"
   ]
  },
  {
   "cell_type": "code",
   "execution_count": 7,
   "metadata": {},
   "outputs": [
    {
     "data": {
      "text/html": [
       "<div>\n",
       "<style scoped>\n",
       "    .dataframe tbody tr th:only-of-type {\n",
       "        vertical-align: middle;\n",
       "    }\n",
       "\n",
       "    .dataframe tbody tr th {\n",
       "        vertical-align: top;\n",
       "    }\n",
       "\n",
       "    .dataframe thead th {\n",
       "        text-align: right;\n",
       "    }\n",
       "</style>\n",
       "<table border=\"1\" class=\"dataframe\">\n",
       "  <thead>\n",
       "    <tr style=\"text-align: right;\">\n",
       "      <th></th>\n",
       "      <th>source</th>\n",
       "      <th>text</th>\n",
       "      <th>label</th>\n",
       "      <th>id</th>\n",
       "    </tr>\n",
       "  </thead>\n",
       "  <tbody>\n",
       "    <tr>\n",
       "      <th>0</th>\n",
       "      <td>hate_speech</td>\n",
       "      <td>!!! RT @mayasolovely: As a woman you shouldn't...</td>\n",
       "      <td>2</td>\n",
       "      <td>4ecc4591238c4855bd54ea0d584f3054</td>\n",
       "    </tr>\n",
       "    <tr>\n",
       "      <th>1</th>\n",
       "      <td>hate_speech</td>\n",
       "      <td>!!!!! RT @mleew17: boy dats cold...tyga dwn ba...</td>\n",
       "      <td>1</td>\n",
       "      <td>c682b650f3b24e6b94b36b89acd68e57</td>\n",
       "    </tr>\n",
       "    <tr>\n",
       "      <th>2</th>\n",
       "      <td>hate_speech</td>\n",
       "      <td>!!!!!!! RT @UrKindOfBrand Dawg!!!! RT @80sbaby...</td>\n",
       "      <td>1</td>\n",
       "      <td>9c92c46021824d89b96b0bba2b2b5a83</td>\n",
       "    </tr>\n",
       "    <tr>\n",
       "      <th>3</th>\n",
       "      <td>hate_speech</td>\n",
       "      <td>!!!!!!!!! RT @C_G_Anderson: @viva_based she lo...</td>\n",
       "      <td>1</td>\n",
       "      <td>c4ab2ea47a3e4e3bbbf530d273cc244f</td>\n",
       "    </tr>\n",
       "    <tr>\n",
       "      <th>4</th>\n",
       "      <td>hate_speech</td>\n",
       "      <td>!!!!!!!!!!!!! RT @ShenikaRoberts: The shit you...</td>\n",
       "      <td>1</td>\n",
       "      <td>23e3092360e54bca85a5b0336ed8cf8e</td>\n",
       "    </tr>\n",
       "  </tbody>\n",
       "</table>\n",
       "</div>"
      ],
      "text/plain": [
       "        source                                               text  label  \\\n",
       "0  hate_speech  !!! RT @mayasolovely: As a woman you shouldn't...      2   \n",
       "1  hate_speech  !!!!! RT @mleew17: boy dats cold...tyga dwn ba...      1   \n",
       "2  hate_speech  !!!!!!! RT @UrKindOfBrand Dawg!!!! RT @80sbaby...      1   \n",
       "3  hate_speech  !!!!!!!!! RT @C_G_Anderson: @viva_based she lo...      1   \n",
       "4  hate_speech  !!!!!!!!!!!!! RT @ShenikaRoberts: The shit you...      1   \n",
       "\n",
       "                                 id  \n",
       "0  4ecc4591238c4855bd54ea0d584f3054  \n",
       "1  c682b650f3b24e6b94b36b89acd68e57  \n",
       "2  9c92c46021824d89b96b0bba2b2b5a83  \n",
       "3  c4ab2ea47a3e4e3bbbf530d273cc244f  \n",
       "4  23e3092360e54bca85a5b0336ed8cf8e  "
      ]
     },
     "execution_count": 7,
     "metadata": {},
     "output_type": "execute_result"
    }
   ],
   "source": [
    "project_root = os.path.dirname(os.getcwd())\n",
    "data_dir = os.path.join(project_root, 'datasets')\n",
    "data_file = os.path.join(data_dir, 'raw/merged_dataset.csv')\n",
    "\n",
    "df = pd.read_csv(data_file)\n",
    "df.head()"
   ]
  },
  {
   "cell_type": "markdown",
   "metadata": {},
   "source": [
    "## Balancing"
   ]
  },
  {
   "cell_type": "markdown",
   "metadata": {},
   "source": [
    "Data rebalancing - DownSample of Class 0 (not harmful comments)"
   ]
  },
  {
   "cell_type": "code",
   "execution_count": 9,
   "metadata": {},
   "outputs": [
    {
     "data": {
      "text/plain": [
       "label\n",
       "0    30000\n",
       "1    24897\n",
       "2    14681\n",
       "Name: count, dtype: int64"
      ]
     },
     "execution_count": 9,
     "metadata": {},
     "output_type": "execute_result"
    }
   ],
   "source": [
    "# Rebalance the data by selecting 30000 random samples from class 0\n",
    "df_balanced = pd.concat([df[df.label == 0].sample(n=30000), df[df.label != 0]])\n",
    "df_balanced.label.value_counts()"
   ]
  },
  {
   "cell_type": "markdown",
   "metadata": {},
   "source": [
    "## Text cleaning"
   ]
  },
  {
   "cell_type": "code",
   "execution_count": 10,
   "metadata": {},
   "outputs": [
    {
     "data": {
      "text/html": [
       "<div>\n",
       "<style scoped>\n",
       "    .dataframe tbody tr th:only-of-type {\n",
       "        vertical-align: middle;\n",
       "    }\n",
       "\n",
       "    .dataframe tbody tr th {\n",
       "        vertical-align: top;\n",
       "    }\n",
       "\n",
       "    .dataframe thead th {\n",
       "        text-align: right;\n",
       "    }\n",
       "</style>\n",
       "<table border=\"1\" class=\"dataframe\">\n",
       "  <thead>\n",
       "    <tr style=\"text-align: right;\">\n",
       "      <th></th>\n",
       "      <th>source</th>\n",
       "      <th>text</th>\n",
       "      <th>label</th>\n",
       "      <th>id</th>\n",
       "    </tr>\n",
       "  </thead>\n",
       "  <tbody>\n",
       "    <tr>\n",
       "      <th>124619</th>\n",
       "      <td>toxic_comment</td>\n",
       "      <td>\"\\n\\n Please do not vandalize pages, as you di...</td>\n",
       "      <td>0</td>\n",
       "      <td>1beffefdb07b4574aa0b78b0bd848efb</td>\n",
       "    </tr>\n",
       "    <tr>\n",
       "      <th>153778</th>\n",
       "      <td>toxic_comment</td>\n",
       "      <td>Donaire's nationality should be Filipino. It s...</td>\n",
       "      <td>0</td>\n",
       "      <td>3bfc437551384d6c926c16355504de95</td>\n",
       "    </tr>\n",
       "    <tr>\n",
       "      <th>156639</th>\n",
       "      <td>toxic_comment</td>\n",
       "      <td>(Oops, forgot to sign   Dave)</td>\n",
       "      <td>0</td>\n",
       "      <td>c1af40a4c56c43b9bbe2b6f9ce704d45</td>\n",
       "    </tr>\n",
       "    <tr>\n",
       "      <th>70376</th>\n",
       "      <td>toxic_comment</td>\n",
       "      <td>\"\\n\\n Pontic Greeks \\n\\nI removed the parapgra...</td>\n",
       "      <td>0</td>\n",
       "      <td>43bd6dbb06274abf842a408e843c9db7</td>\n",
       "    </tr>\n",
       "    <tr>\n",
       "      <th>183394</th>\n",
       "      <td>toxic_comment</td>\n",
       "      <td>Fyslee, I wold advise that you drop the accusa...</td>\n",
       "      <td>0</td>\n",
       "      <td>f1cc20d0f1934398b9ff072c110263fb</td>\n",
       "    </tr>\n",
       "  </tbody>\n",
       "</table>\n",
       "</div>"
      ],
      "text/plain": [
       "               source                                               text  \\\n",
       "124619  toxic_comment  \"\\n\\n Please do not vandalize pages, as you di...   \n",
       "153778  toxic_comment  Donaire's nationality should be Filipino. It s...   \n",
       "156639  toxic_comment                      (Oops, forgot to sign   Dave)   \n",
       "70376   toxic_comment  \"\\n\\n Pontic Greeks \\n\\nI removed the parapgra...   \n",
       "183394  toxic_comment  Fyslee, I wold advise that you drop the accusa...   \n",
       "\n",
       "        label                                id  \n",
       "124619      0  1beffefdb07b4574aa0b78b0bd848efb  \n",
       "153778      0  3bfc437551384d6c926c16355504de95  \n",
       "156639      0  c1af40a4c56c43b9bbe2b6f9ce704d45  \n",
       "70376       0  43bd6dbb06274abf842a408e843c9db7  \n",
       "183394      0  f1cc20d0f1934398b9ff072c110263fb  "
      ]
     },
     "execution_count": 10,
     "metadata": {},
     "output_type": "execute_result"
    }
   ],
   "source": [
    "df = df_balanced\n",
    "df.head()"
   ]
  },
  {
   "cell_type": "code",
   "execution_count": 16,
   "metadata": {},
   "outputs": [],
   "source": [
    "# Lowercasing\n",
    "df['text'] = df['text'].str.lower()\n",
    "\n",
    "# Remove punctuation\n",
    "df['text'] = df['text'].str.replace(r'[^\\w\\s]', '', regex=True)\n",
    "\n",
    "# Remove numbers\n",
    "df['text'] = df['text'].str.replace(r'\\d+', '', regex=True)\n",
    "\n",
    "# Remove linebreaks characters\n",
    "df['text'] = df['text'].str.replace(r'\\n', ' ', regex=True)\n",
    "\n",
    "# Strip leading and trailing whitespaces\n",
    "df['text'] = df['text'].str.strip()\n",
    "\n",
    "df = df.sample(frac=1).dropna()"
   ]
  },
  {
   "cell_type": "markdown",
   "metadata": {},
   "source": [
    "##### Tokenization"
   ]
  },
  {
   "cell_type": "code",
   "execution_count": 39,
   "metadata": {},
   "outputs": [],
   "source": [
    "from nltk.tokenize import word_tokenize\n",
    "\n",
    "# Tokenize the text\n",
    "df['tokens'] = df['text'].apply(lambda x : word_tokenize(x, preserve_line=True))"
   ]
  }
 ],
 "metadata": {
  "kernelspec": {
   "display_name": "env",
   "language": "python",
   "name": "python3"
  },
  "language_info": {
   "codemirror_mode": {
    "name": "ipython",
    "version": 3
   },
   "file_extension": ".py",
   "mimetype": "text/x-python",
   "name": "python",
   "nbconvert_exporter": "python",
   "pygments_lexer": "ipython3",
   "version": "3.12.7"
  }
 },
 "nbformat": 4,
 "nbformat_minor": 2
}
